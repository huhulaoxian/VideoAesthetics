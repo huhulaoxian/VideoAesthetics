{
 "cells": [
  {
   "cell_type": "code",
   "execution_count": null,
   "metadata": {},
   "outputs": [
    {
     "name": "stdout",
     "output_type": "stream",
     "text": [
      "video frame count :  2981 video width :  640 video height :  360 fps :  29\n"
     ]
    }
   ],
   "source": [
    "import cv2\n",
    "import matplotlib.pyplot as plt\n",
    "import numpy as np\n",
    "from scipy.signal import argrelextrema\n",
    "\n",
    "class Frame:\n",
    "    def __init__(self, id, frame, value):\n",
    "        self.id = id\n",
    "        self.frame = frame\n",
    "        self.value = value\n",
    "\n",
    "video_path = 'video.mp4'\n",
    "\n",
    "cap = cv2.VideoCapture(video_path)\n",
    "\n",
    "nBins = 256\n",
    "\n",
    "length = int(cap.get(cv2.CAP_PROP_FRAME_COUNT))\n",
    "width  = int(cap.get(cv2.CAP_PROP_FRAME_WIDTH))\n",
    "height = int(cap.get(cv2.CAP_PROP_FRAME_HEIGHT))\n",
    "fps    = round(cap.get(cv2.CAP_PROP_FPS))\n",
    "\n",
    "print(\"video frame count : \",length, \"video width : \",width, \"video height : \",height, \"fps : \", fps)\n",
    "\n",
    "\n",
    "def CalHist(img):\n",
    "\n",
    "    b, g, r = cv2.split(fram)\n",
    "    bHist = cv2.calcHist([b], [0], None, [256], [0, 256])\n",
    "    gHist = cv2.calcHist([g], [0], None, [256], [0, 256])\n",
    "    rHist = cv2.calcHist([r], [0], None, [256], [0, 256])\n",
    "\n",
    "    return bHist, gHist, rHist\n",
    "\n",
    "\n",
    "ret, fram = cap.read()\n",
    "prev_values = CalHist(fram)\n",
    "diff_list = []\n",
    "frames = []\n",
    "i = 1\n",
    "\n",
    "\n",
    "for i in range(length):\n",
    "    ret, fram = cap.read()\n",
    "    if i % fps == 0:\n",
    "        next_values = CalHist(fram)\n",
    "        total_diff = 0\n",
    "        for prev, nxt in zip(prev_values, next_values):\n",
    "            diff = np.sum(abs(prev - nxt))\n",
    "            total_diff += diff\n",
    "\n",
    "        diff_list.append(total_diff)\n",
    "\n",
    "        prev_values = next_values\n",
    "        frame = Frame(i,fram,total_diff)\n",
    "        frames.append(frame)\n",
    "\n",
    "diff_array = np.array(diff_list)\n",
    "# identify local maxima\n",
    "frame_indexes = np.asarray(argrelextrema(diff_array, np.greater))[0]\n",
    "\n",
    "diff_dict = {}\n",
    "for i in frame_indexes:\n",
    "    diff_dict[i] = diff_array[i]\n",
    "\n",
    "sorted_dict = sorted(diff_dict.items(), key = lambda x: x[1],reverse=True)\n",
    "sorted_indexes = [j[0] for i, j in enumerate(sorted_dict) if i < 10]\n",
    "\n",
    "path = './test'\n",
    "for i in sorted_indexes:\n",
    "    name = \"frame_\" + str(frames[i - 1].id) + \".jpg\"\n",
    "    cv2.imwrite(path + name, frames[i - 1].frame)"
   ]
  }
 ],
 "metadata": {
  "kernelspec": {
   "display_name": "Python 3",
   "language": "python",
   "name": "python3"
  },
  "language_info": {
   "codemirror_mode": {
    "name": "ipython",
    "version": 3
   },
   "file_extension": ".py",
   "mimetype": "text/x-python",
   "name": "python",
   "nbconvert_exporter": "python",
   "pygments_lexer": "ipython3",
   "version": "3.5.6"
  }
 },
 "nbformat": 4,
 "nbformat_minor": 2
}
